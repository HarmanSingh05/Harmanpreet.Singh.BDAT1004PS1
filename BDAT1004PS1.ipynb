{
 "cells": [
  {
   "cell_type": "markdown",
   "id": "a6f775fd",
   "metadata": {},
   "source": [
    "# BDAT 1004 PROBLEM SET 1\n"
   ]
  },
  {
   "cell_type": "markdown",
   "id": "d35163fa",
   "metadata": {},
   "source": [
    "## Question 1\n",
    "### What data type is each of the following (evaluate where necessary)?\n",
    "<ol>\n",
    "<li>5</li>\n",
    "<li>5.0</li>\n",
    "<li>5 > 1</li>\n",
    "<li>'5'</li>\n",
    "<li>5 * 2</li>\n",
    "<li>'5' * 2</li>\n",
    "<li>'5' + '2'</li>\n",
    "<li>5 / 2</li>\n",
    "<li>5 % 2</li>\n",
    "<li>{5, 2, 1}</li>\n",
    "<li>5 == 3</li>\n",
    "<li>Pi (the number)</li>\n",
    "</ol>\n",
    "\n"
   ]
  },
  {
   "cell_type": "code",
   "execution_count": 1,
   "id": "6ed480c0",
   "metadata": {},
   "outputs": [
    {
     "name": "stdout",
     "output_type": "stream",
     "text": [
      "<class 'int'>\n",
      "<class 'float'>\n",
      "<class 'bool'>\n",
      "<class 'str'>\n",
      "<class 'int'>\n",
      "<class 'str'>\n",
      "<class 'str'>\n",
      "<class 'float'>\n",
      "<class 'int'>\n",
      "<class 'set'>\n",
      "<class 'bool'>\n",
      "<class 'float'>\n"
     ]
    }
   ],
   "source": [
    "# 1\n",
    "data_1 = 5\n",
    "print(type(data_1))  \n",
    "\n",
    "# 2\n",
    "data_2 = 5.0\n",
    "print(type(data_2))  \n",
    "\n",
    "# 3\n",
    "data_3 = 5 > 1\n",
    "print(type(data_3))  \n",
    "\n",
    "# 4\n",
    "data_4 = '5'\n",
    "print(type(data_4))  \n",
    "\n",
    "# 5\n",
    "data_5 = 5 * 2\n",
    "print(type(data_5))  \n",
    "\n",
    "# 6\n",
    "data_6 = '5' * 2\n",
    "print(type(data_6))  \n",
    "\n",
    "# 7\n",
    "data_7 = '5' + '2'\n",
    "print(type(data_7))  \n",
    "\n",
    "# 8\n",
    "data_8 = 5 / 2\n",
    "print(type(data_8))  \n",
    "\n",
    "# 9\n",
    "data_9 = 5 % 2\n",
    "print(type(data_9))  \n",
    "\n",
    "# 10\n",
    "data_10 = {5, 2, 1}\n",
    "print(type(data_10))  \n",
    "\n",
    "# 11\n",
    "data_11 = 5 == 3\n",
    "print(type(data_11))  \n",
    "\n",
    "# 12\n",
    "import math\n",
    "data_12 = math.pi\n",
    "print(type(data_12))  \n"
   ]
  },
  {
   "cell_type": "markdown",
   "id": "da28179b",
   "metadata": {},
   "source": [
    "## Question 2\n",
    "### Write (and evaluate) python expressions that answer these questions:<br>\n",
    "#### a. How many letters are there in 'Supercalifragilisticexpialidocious'?<br>\n",
    "#### b. Does 'Supercalifragilisticexpialidocious' contain 'ice' as a substring?<br>\n",
    "#### c. Which of the following words is the longest:\n",
    "#### Supercalifragilisticexpialidocious, Honorificabilitudinitatibus, or Bababadalgharaghtakamminarronnkonn?<br>\n",
    "#### d. Which composer comes first in the dictionary: 'Berlioz', 'Borodin', 'Brian', 'Bartok', 'Bellini', 'Buxtehude', 'Bernstein'. Which one comes last?"
   ]
  },
  {
   "cell_type": "code",
   "execution_count": 5,
   "id": "d9183a16",
   "metadata": {},
   "outputs": [
    {
     "name": "stdout",
     "output_type": "stream",
     "text": [
      "a.  34\n",
      "b.  True\n",
      "c.  Supercalifragilisticexpialidocious\n",
      "d. The First Composer in the Dictionary is :  Bartok\n",
      "   The Last  Composer in the Dictionary is :  Buxtehude\n"
     ]
    }
   ],
   "source": [
    "# a\n",
    "word = 'Supercalifragilisticexpialidocious'\n",
    "letter_count = len(word)\n",
    "print(\"a. \", letter_count)  \n",
    "\n",
    "# b\n",
    "substring = 'ice'\n",
    "contains_substring = substring in word\n",
    "print(\"b. \", contains_substring)  \n",
    "\n",
    "# c\n",
    "word1 = 'Supercalifragilisticexpialidocious'\n",
    "word2 = 'Honorificabilitudinitatibus'\n",
    "word3 = 'Bababadalgharaghtakamminarronnkonn'\n",
    "\n",
    "longest_word = max(word1, word2, word3, key=len)\n",
    "print(\"c. \", longest_word)  \n",
    "\n",
    "# d\n",
    "composers = ['Berlioz', 'Borodin', 'Brian', 'Bartok', 'Bellini', 'Buxtehude', 'Bernstein']\n",
    "first_composer = min(composers)\n",
    "last_composer = max(composers)\n",
    "print(\"d. The First Composer in the Dictionary is : \", first_composer)  \n",
    "print(\"   The Last  Composer in the Dictionary is : \", last_composer)  \n"
   ]
  },
  {
   "cell_type": "markdown",
   "id": "7dfaaf19",
   "metadata": {},
   "source": [
    "## Question 3\n",
    "### Implement function triangleArea(a,b,c) that takes as input the lengths of the 3 sides of a triangle and returns the area of the triangle. By Heron's formula, the area of a triangle with side lengths a, b, and c is s(s - a)(s -b)(s -c), where s = (a+b+c)/2\n",
    "###   >>> triangleArea(2,2,2)\n",
    "> 1.7320508075688772\n"
   ]
  },
  {
   "cell_type": "code",
   "execution_count": 7,
   "id": "8ee00255",
   "metadata": {},
   "outputs": [
    {
     "name": "stdout",
     "output_type": "stream",
     "text": [
      "Enter the lengths of sides a, b and c of the traingle ->\n",
      "Enter length of side a:2\n",
      "Enter lenght of side b:2\n",
      "Enter length of side c:2\n",
      "Area of Triangle :  1.7320508075688772\n"
     ]
    }
   ],
   "source": [
    "import math\n",
    "a, b, c, s = 0.0, 0.0, 0.0, 0.0\n",
    "print(\"Enter the lengths of sides a, b and c of the traingle ->\")\n",
    "a, b, c = float(input('Enter length of side a:')), float(input('Enter lenght of side b:')), float(input('Enter length of side c:'))\n",
    "def triangleArea(a, b, c):\n",
    "    # Calculate the semi-perimeter\n",
    "    s = (a + b + c) / 2\n",
    "\n",
    "    # Calculate the area using Heron's formula\n",
    "    area = math.sqrt(s * (s - a) * (s - b) * (s - c))\n",
    "\n",
    "    return area\n",
    "\n",
    "# Test the function\n",
    "area = triangleArea(a, b, c)\n",
    "print(\"Area of Triangle : \",area)  \n"
   ]
  },
  {
   "cell_type": "markdown",
   "id": "1c7213f5",
   "metadata": {},
   "source": [
    "## Question 4\n",
    "### Write a program in python to separate odd and even integers in separate arrays. Go to the editor \n",
    "### Test Data : \n",
    "### Input the number of elements to be stored in the array :5 \n",
    "### Input 5 elements in the array :\n",
    "### element - 0 : 25 \n",
    "### element - 1 : 47 \n",
    "### element - 2 : 42 \n",
    "### element - 3 : 56 \n",
    "### element - 4 : 32 \n",
    "### Expected Output: \n",
    "### The Even elements are: 42 56 32 \n",
    "### The Odd elements are : 25 47"
   ]
  },
  {
   "cell_type": "code",
   "execution_count": 8,
   "id": "09d21282",
   "metadata": {},
   "outputs": [
    {
     "name": "stdout",
     "output_type": "stream",
     "text": [
      "Input the number of elements to be stored in the array: 5\n",
      "element - 0 : 25\n",
      "element - 1 : 47\n",
      "element - 2 : 42\n",
      "element - 3 : 56\n",
      "element - 4 : 32\n",
      "The Even elements are:\n",
      "42 56 32 \n",
      "The Odd elements are:\n",
      "25 47 "
     ]
    }
   ],
   "source": [
    "# Input the number of elements in the array\n",
    "num_elements = int(input(\"Input the number of elements to be stored in the array: \"))\n",
    "\n",
    "# Input the elements in the array\n",
    "array = []\n",
    "for i in range(num_elements):\n",
    "    element = int(input(f\"element - {i} : \"))\n",
    "    array.append(element)\n",
    "\n",
    "# Separate odd and even elements\n",
    "even_numbers = []\n",
    "odd_numbers = []\n",
    "\n",
    "for num in array:\n",
    "    if num % 2 == 0:\n",
    "        even_numbers.append(num)\n",
    "    else:\n",
    "        odd_numbers.append(num)\n",
    "\n",
    "# Print the separated elements\n",
    "print(\"The Even elements are:\")\n",
    "for even in even_numbers:\n",
    "    print(even, end=\" \")\n",
    "\n",
    "print(\"\\nThe Odd elements are:\")\n",
    "for odd in odd_numbers:\n",
    "    print(odd, end=\" \")\n"
   ]
  },
  {
   "cell_type": "markdown",
   "id": "c10a1ab4",
   "metadata": {},
   "source": [
    "## Question 5 \n",
    "###  a.  Write a function inside(x,y,x1,y1,x2,y2) that returns True or False depending on whether the point (x,y) lies in the rectangle with lower left corner (x1,y1) and upper right corner (x2,y2).\n",
    "###   >>> inside(1,1,0,0,2,3)\n",
    "> True\n",
    "###   >>> inside(-1,-1,0,0,2,3)\n",
    "> False\n",
    "###  b.  Use function inside() from part a. to write an expression that tests whether the point (1,1) lies in both of the following rectangles: one with lower left corner (0.3, 0.5) and upper right corner (1.1, 0.7) and the other with lower left corner (0.5, 0.2) and upper right corner (1.1, 2)."
   ]
  },
  {
   "cell_type": "code",
   "execution_count": 10,
   "id": "05dd02c6",
   "metadata": {},
   "outputs": [
    {
     "name": "stdout",
     "output_type": "stream",
     "text": [
      "a. -> \n",
      "True\n",
      "False\n",
      "\n",
      "b. -> \n",
      "False\n",
      "True\n"
     ]
    }
   ],
   "source": [
    "def inside(x, y, x1, y1, x2, y2):\n",
    "    if x >= x1 and x <= x2 and y >= y1 and y <= y2:\n",
    "        return True\n",
    "    else:\n",
    "        return False\n",
    "\n",
    "# Test the function\n",
    "print(\"a. -> \")\n",
    "print(inside(1, 1, 0, 0, 2, 3))  \n",
    "print(inside(-1, -1, 0, 0, 2, 3))  \n",
    "\n",
    "# Test the point (1, 1) in both rectangles\n",
    "result1 = inside(1, 1, 0.3, 0.5, 1.1, 0.7)\n",
    "result2 = inside(1, 1, 0.5, 0.2, 1.1, 2)\n",
    "\n",
    "print(\"\\nb. -> \")\n",
    "print(result1)  \n",
    "print(result2)  "
   ]
  },
  {
   "cell_type": "markdown",
   "id": "90e42313",
   "metadata": {},
   "source": [
    "## Question 6\n",
    "### You can turn a word into pig-Latin using the following two rules (simplified):\n",
    "### • If the word starts with a consonant, move that letter to the end and append 'ay'. For example, 'happy' becomes 'appyhay' and 'pencil' becomes 'encilpay'.\n",
    "### • If the word starts with a vowel, simply append 'way' to the end of the word.\n",
    "### For example, 'enter' becomes 'enterway' and 'other' becomes 'otherway' . For our purposes, there are 5 vowels: a, e, i, o, u (so we count y as a consonant).\n",
    "### Write a function pig() that takes a word (i.e., a string) as input and returns its pigLatin form. Your function should still work if the input word contains upper case characters. Your output should always be lower case however.\n",
    "### >>> pig('happy')\n",
    ">'appyhay'\n",
    "### >>> pig('Enter')\n",
    ">'enterway'"
   ]
  },
  {
   "cell_type": "code",
   "execution_count": 12,
   "id": "6a92d36e",
   "metadata": {},
   "outputs": [
    {
     "name": "stdout",
     "output_type": "stream",
     "text": [
      "happy in pig-Latin :  appyhay\n",
      "Enter in pig-Latin :  enterway\n"
     ]
    }
   ],
   "source": [
    "def pig(word):\n",
    "    # Convert the word to lowercase\n",
    "    word = word.lower()\n",
    "\n",
    "    # Check if the word starts with a vowel\n",
    "    vowels = ['a', 'e', 'i', 'o', 'u']\n",
    "    if word[0] in vowels:\n",
    "        pig_latin = word + 'way'\n",
    "    else:\n",
    "        pig_latin = word[1:] + word[0] + 'ay'\n",
    "\n",
    "    return pig_latin\n",
    "\n",
    "# Test the function\n",
    "print(\"happy in pig-Latin : \",pig('happy'))  \n",
    "print(\"Enter in pig-Latin : \",pig('Enter'))  "
   ]
  },
  {
   "cell_type": "markdown",
   "id": "8e4e8b4d",
   "metadata": {},
   "source": [
    "## Question 7\n",
    "### File bloodtype1.txt records blood-types of patients (A, B, AB, O or OO) at a clinic.\n",
    "### Write a function bldcount() that reads the file with name name and reports (i.e.prints) how many patients there are in each bloodtype.\n",
    "### >>> bldcount('bloodtype.txt')\n",
    ">There are 10 patients of blood type A.<br>\n",
    ">There is one patient of blood type B.<br>\n",
    ">There are 10 patients of blood type AB.<br>\n",
    ">There are 12 patients of blood type O.<br>\n",
    ">There are no patients of blood type OO.<br>"
   ]
  },
  {
   "cell_type": "code",
   "execution_count": 14,
   "id": "4b54b10a",
   "metadata": {},
   "outputs": [
    {
     "name": "stdout",
     "output_type": "stream",
     "text": [
      "There are 15 patients of blood type A.\n",
      "There is 1 patient of blood type B.\n",
      "There are 13 patients of blood type AB.\n",
      "There are 15 patients of blood type O.\n",
      "There are 0 patients of blood type OO.\n"
     ]
    }
   ],
   "source": [
    "def bldcount(filename):\n",
    "    # Initialize a dictionary to store the blood type counts\n",
    "    blood_counts = {'A': 0, 'B': 0, 'AB': 0, 'O': 0, 'OO': 0}\n",
    "\n",
    "    # Read the file and count the blood types\n",
    "    with open(filename, 'r') as file:\n",
    "        blood_data = file.read().split()\n",
    "        for blood_type in blood_data:\n",
    "            blood_counts[blood_type] += 1\n",
    "\n",
    "    # Print the blood type counts\n",
    "    for blood_type, count in blood_counts.items():\n",
    "        if count == 1:\n",
    "            print(f\"There is 1 patient of blood type {blood_type}.\")\n",
    "        else:\n",
    "            print(f\"There are {count} patients of blood type {blood_type}.\")\n",
    "\n",
    "# Test the function\n",
    "bldcount('bloodtype1.txt')\n"
   ]
  },
  {
   "cell_type": "markdown",
   "id": "accdb7e1",
   "metadata": {},
   "source": [
    "## Question 8\n",
    "### Write a function curconv() that takes as input:\n",
    "### 1. a currency represented using a string (e.g., 'JPY' for the Japanese Yen or 'EUR' for the Euro)\n",
    "### 2. an amount \n",
    "### and then converts and returns the amount in US dollars.\n",
    "### >>> curconv('EUR', 100)\n",
    ">122.96544\n",
    "### >>> curconv('JPY', 100)\n",
    ">1.241401\n",
    "### The currency rates you will need are stored in file currencies.txt\n",
    "\n"
   ]
  },
  {
   "cell_type": "code",
   "execution_count": 16,
   "id": "60c330a2",
   "metadata": {},
   "outputs": [
    {
     "name": "stdout",
     "output_type": "stream",
     "text": [
      "100 EURO in USD :  122.96544\n",
      "100 YEN in USD :  1.241401\n"
     ]
    }
   ],
   "source": [
    "def curconv(currency, amount):\n",
    "    # Read the currency rates from the file\n",
    "    rates = {}\n",
    "    with open('currencies.txt', 'r') as file:\n",
    "        for line in file:\n",
    "            parts = line.split()\n",
    "            rates[parts[0]] = float(parts[1])\n",
    "\n",
    "    # Convert the amount to US dollars\n",
    "    if currency in rates:\n",
    "        usd_amount = amount * rates[currency]\n",
    "        return usd_amount\n",
    "    else:\n",
    "        return 'Currency not found.'\n",
    "\n",
    "# Test the function\n",
    "print(\"100 EURO in USD : \",curconv('EUR', 100))  \n",
    "print(\"100 YEN in USD : \",curconv('JPY', 100))  \n"
   ]
  },
  {
   "cell_type": "markdown",
   "id": "6f2e361f",
   "metadata": {},
   "source": [
    "## Question 9\n",
    "### Each of the following will cause an exception (an error). Identify what type of exception each will cause.\n",
    "<ol>\n",
    "<li>Trying to add incompatible variables, as in adding 6 + ‘a’</li>\n",
    "<li>Referring to the 12th item of a list that has only 10 items</li>\n",
    "<li>Using a value that is out of range for a function’s input, such as calling math.sqrt(-1.0)</li>\n",
    "<li>Using an undeclared variable, such as print(x) when x has not been defined</li>\n",
    "<li>Trying to open a file that does not exist, such as mistyping the file name or looking in the wrong directory.</li>\n",
    "</ol>"
   ]
  },
  {
   "cell_type": "code",
   "execution_count": 18,
   "id": "0127599d",
   "metadata": {},
   "outputs": [
    {
     "ename": "TypeError",
     "evalue": "unsupported operand type(s) for +: 'int' and 'str'",
     "output_type": "error",
     "traceback": [
      "\u001b[1;31m---------------------------------------------------------------------------\u001b[0m",
      "\u001b[1;31mTypeError\u001b[0m                                 Traceback (most recent call last)",
      "\u001b[1;32m~\\AppData\\Local\\Temp\\ipykernel_35072\\2560881482.py\u001b[0m in \u001b[0;36m<module>\u001b[1;34m\u001b[0m\n\u001b[0;32m      1\u001b[0m \u001b[1;31m# 1. Trying to add incompatible variables\u001b[0m\u001b[1;33m\u001b[0m\u001b[1;33m\u001b[0m\u001b[0m\n\u001b[1;32m----> 2\u001b[1;33m \u001b[1;36m6\u001b[0m \u001b[1;33m+\u001b[0m \u001b[1;34m'a'\u001b[0m\u001b[1;33m\u001b[0m\u001b[1;33m\u001b[0m\u001b[0m\n\u001b[0m\u001b[0;32m      3\u001b[0m \u001b[0mprint\u001b[0m\u001b[1;33m(\u001b[0m\u001b[1;33m)\u001b[0m\u001b[1;33m\u001b[0m\u001b[1;33m\u001b[0m\u001b[0m\n",
      "\u001b[1;31mTypeError\u001b[0m: unsupported operand type(s) for +: 'int' and 'str'"
     ]
    }
   ],
   "source": [
    "# 1. Trying to add incompatible variables\n",
    "6 + 'a'\n",
    "print()\n"
   ]
  },
  {
   "cell_type": "code",
   "execution_count": 19,
   "id": "739abc5b",
   "metadata": {},
   "outputs": [
    {
     "ename": "IndexError",
     "evalue": "list index out of range",
     "output_type": "error",
     "traceback": [
      "\u001b[1;31m---------------------------------------------------------------------------\u001b[0m",
      "\u001b[1;31mIndexError\u001b[0m                                Traceback (most recent call last)",
      "\u001b[1;32m~\\AppData\\Local\\Temp\\ipykernel_35072\\1287244228.py\u001b[0m in \u001b[0;36m<module>\u001b[1;34m\u001b[0m\n\u001b[0;32m      1\u001b[0m \u001b[1;31m# 2. Referring to the 12th item of a list that has only 10 items\u001b[0m\u001b[1;33m\u001b[0m\u001b[1;33m\u001b[0m\u001b[0m\n\u001b[0;32m      2\u001b[0m \u001b[0mmy_list\u001b[0m \u001b[1;33m=\u001b[0m \u001b[1;33m[\u001b[0m\u001b[1;36m1\u001b[0m\u001b[1;33m,\u001b[0m \u001b[1;36m2\u001b[0m\u001b[1;33m,\u001b[0m \u001b[1;36m3\u001b[0m\u001b[1;33m,\u001b[0m \u001b[1;36m4\u001b[0m\u001b[1;33m,\u001b[0m \u001b[1;36m5\u001b[0m\u001b[1;33m,\u001b[0m \u001b[1;36m6\u001b[0m\u001b[1;33m,\u001b[0m \u001b[1;36m7\u001b[0m\u001b[1;33m,\u001b[0m \u001b[1;36m8\u001b[0m\u001b[1;33m,\u001b[0m \u001b[1;36m9\u001b[0m\u001b[1;33m,\u001b[0m \u001b[1;36m10\u001b[0m\u001b[1;33m]\u001b[0m\u001b[1;33m\u001b[0m\u001b[1;33m\u001b[0m\u001b[0m\n\u001b[1;32m----> 3\u001b[1;33m \u001b[0mitem\u001b[0m \u001b[1;33m=\u001b[0m \u001b[0mmy_list\u001b[0m\u001b[1;33m[\u001b[0m\u001b[1;36m11\u001b[0m\u001b[1;33m]\u001b[0m\u001b[1;33m\u001b[0m\u001b[1;33m\u001b[0m\u001b[0m\n\u001b[0m\u001b[0;32m      4\u001b[0m \u001b[0mprint\u001b[0m\u001b[1;33m(\u001b[0m\u001b[1;33m)\u001b[0m\u001b[1;33m\u001b[0m\u001b[1;33m\u001b[0m\u001b[0m\n",
      "\u001b[1;31mIndexError\u001b[0m: list index out of range"
     ]
    }
   ],
   "source": [
    "# 2. Referring to the 12th item of a list that has only 10 items\n",
    "my_list = [1, 2, 3, 4, 5, 6, 7, 8, 9, 10]\n",
    "item = my_list[11]\n",
    "print()"
   ]
  },
  {
   "cell_type": "code",
   "execution_count": 20,
   "id": "9fe8ccca",
   "metadata": {},
   "outputs": [
    {
     "ename": "ValueError",
     "evalue": "math domain error",
     "output_type": "error",
     "traceback": [
      "\u001b[1;31m---------------------------------------------------------------------------\u001b[0m",
      "\u001b[1;31mValueError\u001b[0m                                Traceback (most recent call last)",
      "\u001b[1;32m~\\AppData\\Local\\Temp\\ipykernel_35072\\3624848973.py\u001b[0m in \u001b[0;36m<module>\u001b[1;34m\u001b[0m\n\u001b[0;32m      1\u001b[0m \u001b[1;31m# 3. Using a value that is out of range for a function's input\u001b[0m\u001b[1;33m\u001b[0m\u001b[1;33m\u001b[0m\u001b[0m\n\u001b[0;32m      2\u001b[0m \u001b[1;32mimport\u001b[0m \u001b[0mmath\u001b[0m\u001b[1;33m\u001b[0m\u001b[1;33m\u001b[0m\u001b[0m\n\u001b[1;32m----> 3\u001b[1;33m \u001b[0mresult\u001b[0m \u001b[1;33m=\u001b[0m \u001b[0mmath\u001b[0m\u001b[1;33m.\u001b[0m\u001b[0msqrt\u001b[0m\u001b[1;33m(\u001b[0m\u001b[1;33m-\u001b[0m\u001b[1;36m1.0\u001b[0m\u001b[1;33m)\u001b[0m\u001b[1;33m\u001b[0m\u001b[1;33m\u001b[0m\u001b[0m\n\u001b[0m\u001b[0;32m      4\u001b[0m \u001b[0mprint\u001b[0m\u001b[1;33m(\u001b[0m\u001b[1;33m)\u001b[0m\u001b[1;33m\u001b[0m\u001b[1;33m\u001b[0m\u001b[0m\n",
      "\u001b[1;31mValueError\u001b[0m: math domain error"
     ]
    }
   ],
   "source": [
    "# 3. Using a value that is out of range for a function's input\n",
    "import math\n",
    "result = math.sqrt(-1.0)\n",
    "print()"
   ]
  },
  {
   "cell_type": "code",
   "execution_count": 21,
   "id": "e0c539a5",
   "metadata": {},
   "outputs": [
    {
     "ename": "NameError",
     "evalue": "name 'x' is not defined",
     "output_type": "error",
     "traceback": [
      "\u001b[1;31m---------------------------------------------------------------------------\u001b[0m",
      "\u001b[1;31mNameError\u001b[0m                                 Traceback (most recent call last)",
      "\u001b[1;32m~\\AppData\\Local\\Temp\\ipykernel_35072\\1747436671.py\u001b[0m in \u001b[0;36m<module>\u001b[1;34m\u001b[0m\n\u001b[0;32m      1\u001b[0m \u001b[1;31m# 4. Using an undeclared variable\u001b[0m\u001b[1;33m\u001b[0m\u001b[1;33m\u001b[0m\u001b[0m\n\u001b[1;32m----> 2\u001b[1;33m \u001b[0mprint\u001b[0m\u001b[1;33m(\u001b[0m\u001b[0mx\u001b[0m\u001b[1;33m)\u001b[0m\u001b[1;33m\u001b[0m\u001b[1;33m\u001b[0m\u001b[0m\n\u001b[0m\u001b[0;32m      3\u001b[0m \u001b[0mprint\u001b[0m\u001b[1;33m(\u001b[0m\u001b[1;33m)\u001b[0m\u001b[1;33m\u001b[0m\u001b[1;33m\u001b[0m\u001b[0m\n",
      "\u001b[1;31mNameError\u001b[0m: name 'x' is not defined"
     ]
    }
   ],
   "source": [
    "# 4. Using an undeclared variable\n",
    "print(x)\n",
    "print()"
   ]
  },
  {
   "cell_type": "code",
   "execution_count": 24,
   "id": "a64e90b5",
   "metadata": {},
   "outputs": [
    {
     "ename": "FileNotFoundError",
     "evalue": "[Errno 2] No such file or directory: 'nonexistent_file.txt'",
     "output_type": "error",
     "traceback": [
      "\u001b[1;31m---------------------------------------------------------------------------\u001b[0m",
      "\u001b[1;31mFileNotFoundError\u001b[0m                         Traceback (most recent call last)",
      "\u001b[1;32m~\\AppData\\Local\\Temp\\ipykernel_35072\\2427943144.py\u001b[0m in \u001b[0;36m<module>\u001b[1;34m\u001b[0m\n\u001b[0;32m      1\u001b[0m \u001b[1;31m# 5. Trying to open a file that does not exist\u001b[0m\u001b[1;33m\u001b[0m\u001b[1;33m\u001b[0m\u001b[0m\n\u001b[1;32m----> 2\u001b[1;33m \u001b[0mfile\u001b[0m \u001b[1;33m=\u001b[0m \u001b[0mopen\u001b[0m\u001b[1;33m(\u001b[0m\u001b[1;34m'nonexistent_file.txt'\u001b[0m\u001b[1;33m,\u001b[0m \u001b[1;34m'r'\u001b[0m\u001b[1;33m)\u001b[0m\u001b[1;33m\u001b[0m\u001b[1;33m\u001b[0m\u001b[0m\n\u001b[0m\u001b[0;32m      3\u001b[0m \u001b[0mprint\u001b[0m\u001b[1;33m(\u001b[0m\u001b[1;33m)\u001b[0m\u001b[1;33m\u001b[0m\u001b[1;33m\u001b[0m\u001b[0m\n",
      "\u001b[1;31mFileNotFoundError\u001b[0m: [Errno 2] No such file or directory: 'nonexistent_file.txt'"
     ]
    }
   ],
   "source": [
    "# 5. Trying to open a file that does not exist\n",
    "file = open('nonexistent_file.txt', 'r')\n",
    "print()"
   ]
  },
  {
   "cell_type": "markdown",
   "id": "56b227a0",
   "metadata": {},
   "source": [
    "## Question 10\n",
    "### Encryption is the process of hiding the meaning of a text by substituting letters in the message with other letters, according to some system. If the process is successful, no one but the intended recipient can understand the encrypted message. Cryptanalysis refers to attempts to undo the encryption, even if some details of the encryption are unknown (for example, if an encrypted message has been intercepted). The first step of cryptanalysis is often to build up a table of letter frequencies in the encrypted text. Assume that the string letters is already defined as 'abcdefghijklmnopqrstuvwxyz'. Write a function called frequencies() that takes a string as its only parameter, and returns a list of integers, showing the number of times each character appears in the text. Your function may ignore any characters that are not in letters.\n",
    "### >>> frequencies('The quick red fox got bored and went home.')\n",
    ">[1, 1, 1, 3, 5, 1, 1, 2, 1, 0, 1, 0, 1, 2, 4, 0, 1, 2, 0, 2, 1, 0, 1, 1, 0, 0]\n",
    "### >>> frequencies('apple')"
   ]
  },
  {
   "cell_type": "code",
   "execution_count": 25,
   "id": "4eb68a41",
   "metadata": {},
   "outputs": [
    {
     "name": "stdout",
     "output_type": "stream",
     "text": [
      "Encryption of The quick red fox got bored and went home :  [1, 1, 1, 3, 5, 1, 1, 2, 1, 0, 1, 0, 1, 2, 4, 0, 1, 2, 0, 3, 1, 0, 1, 1, 0, 0]\n",
      "Encryption of apple :  [1, 0, 0, 0, 1, 0, 0, 0, 0, 0, 0, 1, 0, 0, 0, 2, 0, 0, 0, 0, 0, 0, 0, 0, 0, 0]\n"
     ]
    }
   ],
   "source": [
    "def frequencies(text):\n",
    "    letters = 'abcdefghijklmnopqrstuvwxyz'\n",
    "    freq_list = [0] * 26  # Initialize a list of zeros with length 26\n",
    "\n",
    "    # Convert the text to lowercase and iterate over each character\n",
    "    for char in text.lower():\n",
    "        if char in letters:\n",
    "            index = letters.index(char)  # Get the index of the character in the letters string\n",
    "            freq_list[index] += 1  # Increment the count for that character\n",
    "\n",
    "    return freq_list\n",
    "\n",
    "# Test the function\n",
    "print(\"Encryption of The quick red fox got bored and went home : \",frequencies('The quick red fox got bored and went home'))\n",
    "print(\"Encryption of apple : \",frequencies('apple'))\n"
   ]
  },
  {
   "cell_type": "code",
   "execution_count": null,
   "id": "2307d70a",
   "metadata": {},
   "outputs": [],
   "source": []
  }
 ],
 "metadata": {
  "kernelspec": {
   "display_name": "Python 3 (ipykernel)",
   "language": "python",
   "name": "python3"
  },
  "language_info": {
   "codemirror_mode": {
    "name": "ipython",
    "version": 3
   },
   "file_extension": ".py",
   "mimetype": "text/x-python",
   "name": "python",
   "nbconvert_exporter": "python",
   "pygments_lexer": "ipython3",
   "version": "3.9.13"
  }
 },
 "nbformat": 4,
 "nbformat_minor": 5
}
